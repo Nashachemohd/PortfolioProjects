{
 "cells": [
  {
   "cell_type": "markdown",
   "id": "9ac43eeb",
   "metadata": {},
   "source": [
    "# BMI Calculator "
   ]
  },
  {
   "cell_type": "code",
   "execution_count": null,
   "id": "419374dc",
   "metadata": {},
   "outputs": [],
   "source": [
    "#BMI = weight in kg / (height in m x height in m)\n"
   ]
  },
  {
   "cell_type": "code",
   "execution_count": 22,
   "id": "4040aaec",
   "metadata": {
    "scrolled": true
   },
   "outputs": [
    {
     "name": "stdout",
     "output_type": "stream",
     "text": [
      "Enter your name: Nasha\n",
      "Enter your weight (kg): 60\n",
      "Enter your height (cm): 160\n",
      "23.44\n",
      "Nasha, you are normal weight.\n"
     ]
    }
   ],
   "source": [
    "name = input(\"Enter your name: \")\n",
    "\n",
    "weight = int(input('Enter your weight (kg): '))\n",
    "\n",
    "height = int(input(\"Enter your height (cm): \"))\n",
    "\n",
    "height_m = height/100\n",
    "\n",
    "BMI = weight/(height_m*height_m)\n",
    "\n",
    "\n",
    "print(format(BMI,\".2f\"))\n",
    "\n",
    "if (BMI>0):\n",
    "    if(BMI<18.5):\n",
    "        print(name +\", you are underwight.\")\n",
    "    elif (BMI<=24.9):\n",
    "        print(name +\", you are normal weight.\")\n",
    "    elif (BMI<29.9):\n",
    "        print(name +\", you are overweight. You need to exercise more and stop sitting and writing so many python tutorials.\")\n",
    "    elif (BMI<34.9):\n",
    "        print(name +\", you are obese.\")\n",
    "    elif (BMI<39.9):\n",
    "        print(name +\", you are severely obese.\")\n",
    "    else:\n",
    "        print(name +\", you are morbidly obese.\")\n",
    "else:\n",
    "    print(\"Enter valid input\")"
   ]
  },
  {
   "cell_type": "code",
   "execution_count": null,
   "id": "5dc8685d",
   "metadata": {},
   "outputs": [],
   "source": []
  }
 ],
 "metadata": {
  "kernelspec": {
   "display_name": "Python 3 (ipykernel)",
   "language": "python",
   "name": "python3"
  },
  "language_info": {
   "codemirror_mode": {
    "name": "ipython",
    "version": 3
   },
   "file_extension": ".py",
   "mimetype": "text/x-python",
   "name": "python",
   "nbconvert_exporter": "python",
   "pygments_lexer": "ipython3",
   "version": "3.10.9"
  }
 },
 "nbformat": 4,
 "nbformat_minor": 5
}
