{
 "cells": [
  {
   "cell_type": "code",
   "execution_count": 25,
   "id": "d85a0f2a",
   "metadata": {},
   "outputs": [],
   "source": [
    "import os, shutil"
   ]
  },
  {
   "cell_type": "code",
   "execution_count": 26,
   "id": "1641744c",
   "metadata": {},
   "outputs": [],
   "source": [
    "path = r\"C:/Users/ASUS/Desktop/Data Analytics Training/Python - Project/\""
   ]
  },
  {
   "cell_type": "code",
   "execution_count": 27,
   "id": "21cd8717",
   "metadata": {},
   "outputs": [
    {
     "data": {
      "text/plain": [
       "['NASHA CHE MOHD - 2023.docx',\n",
       " 'NASHA CHE MOHD - 2023.pdf',\n",
       " 'NASHA CHE MOHD - Cover Letter.pdf',\n",
       " 'photo1648573104.jpg']"
      ]
     },
     "execution_count": 27,
     "metadata": {},
     "output_type": "execute_result"
    }
   ],
   "source": [
    "os.listdir(path) #show all the file in the path"
   ]
  },
  {
   "cell_type": "code",
   "execution_count": 4,
   "id": "448ac12a",
   "metadata": {},
   "outputs": [],
   "source": [
    "#check if this path exist already"
   ]
  },
  {
   "cell_type": "code",
   "execution_count": 28,
   "id": "4667e8cb",
   "metadata": {},
   "outputs": [
    {
     "data": {
      "text/plain": [
       "False"
      ]
     },
     "execution_count": 28,
     "metadata": {},
     "output_type": "execute_result"
    }
   ],
   "source": [
    "os.path.exists(path+'csv files')"
   ]
  },
  {
   "cell_type": "code",
   "execution_count": 29,
   "id": "42380049",
   "metadata": {},
   "outputs": [],
   "source": [
    "file_name = os.listdir(path)"
   ]
  },
  {
   "cell_type": "code",
   "execution_count": 30,
   "id": "2f69afc4",
   "metadata": {},
   "outputs": [
    {
     "name": "stdout",
     "output_type": "stream",
     "text": [
      "C:/Users/ASUS/Desktop/Data Analytics Training/Python - Project/pdf files\n",
      "C:/Users/ASUS/Desktop/Data Analytics Training/Python - Project/image files\n",
      "C:/Users/ASUS/Desktop/Data Analytics Training/Python - Project/text files\n"
     ]
    }
   ],
   "source": [
    "folder_names = ['pdf files', 'image files', 'text files']\n",
    "\n",
    "for loop in range(0,3):\n",
    "    if not os.path.exists(path + folder_names[loop]):\n",
    "        print(path + folder_names[loop])\n",
    "        os.makedirs(path + folder_names[loop])"
   ]
  },
  {
   "cell_type": "code",
   "execution_count": 31,
   "id": "17813eed",
   "metadata": {},
   "outputs": [],
   "source": [
    "#move the files in the created folders"
   ]
  },
  {
   "cell_type": "code",
   "execution_count": 32,
   "id": "8de52547",
   "metadata": {},
   "outputs": [],
   "source": [
    "for file in file_name:\n",
    "    if \".pdf\" in file and not os.path.exists(path + \"pdf files/\" + file):\n",
    "        shutil.move(path + file , path + \"pdf files/\" + file)\n",
    "    elif \".jpg\" in file and not os.path.exists(path + \"image files/\" + file):\n",
    "        shutil.move(path + file , path + \"image files/\" + file)\n",
    "    elif \".docx\" in file and not os.path.exists(path + \"text files/\" + file):\n",
    "        shutil.move(path + file , path + \"text files/\" + file)\n",
    "        "
   ]
  },
  {
   "cell_type": "code",
   "execution_count": null,
   "id": "a75df393",
   "metadata": {},
   "outputs": [],
   "source": []
  }
 ],
 "metadata": {
  "kernelspec": {
   "display_name": "Python 3 (ipykernel)",
   "language": "python",
   "name": "python3"
  },
  "language_info": {
   "codemirror_mode": {
    "name": "ipython",
    "version": 3
   },
   "file_extension": ".py",
   "mimetype": "text/x-python",
   "name": "python",
   "nbconvert_exporter": "python",
   "pygments_lexer": "ipython3",
   "version": "3.10.9"
  }
 },
 "nbformat": 4,
 "nbformat_minor": 5
}
